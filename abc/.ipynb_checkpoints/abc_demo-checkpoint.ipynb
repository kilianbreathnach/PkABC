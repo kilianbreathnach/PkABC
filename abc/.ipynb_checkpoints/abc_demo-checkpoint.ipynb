{
 "cells": [
  {
   "cell_type": "markdown",
   "metadata": {},
   "source": [
    "# Approximate Bayesnian Comp"
   ]
  },
  {
   "cell_type": "markdown",
   "metadata": {},
   "source": [
    "## Data\n",
    "Data we want to model... say Phil's height"
   ]
  },
  {
   "cell_type": "code",
   "execution_count": 4,
   "metadata": {
    "collapsed": false
   },
   "outputs": [],
   "source": [
    "%matplotlib inline\n",
    "import numpy as np\n",
    "import matplotlib.pyplot as plt\n",
    "from scipy.stats import uniform \n",
    "from scipy.stats import norm\n",
    "from parameters import Params\n",
    "\n",
    "data = {}\n",
    "data['input'] = np.arange(-1.0, 1.0, 0.1)\n",
    "data['output'] = 180.0 * np.exp(-0.5 * data['input']**2/20.0)"
   ]
  },
  {
   "cell_type": "code",
   "execution_count": 5,
   "metadata": {
    "collapsed": false
   },
   "outputs": [
    {
     "data": {
      "text/plain": [
       "(-1.0, 1.0)"
      ]
     },
     "execution_count": 5,
     "metadata": {},
     "output_type": "execute_result"
    },
    {
     "data": {
      "image/png": "[encoded data removed]",
      "text/plain": [
       "<matplotlib.figure.Figure at 0x10cd95ad0>"
      ]
     },
     "metadata": {},
     "output_type": "display_data"
    }
   ],
   "source": [
    "fig = plt.figure() \n",
    "sub = fig.add_subplot(111)\n",
    "sub.scatter(data['input'], data['output'])\n",
    "sub.set_xlim([-1.0,1.0])"
   ]
  },
  {
   "cell_type": "markdown",
   "metadata": {},
   "source": [
    "## Simulator\n",
    "Our model for Phil's height as a function of time during the day"
   ]
  },
  {
   "cell_type": "code",
   "execution_count": 6,
   "metadata": {
    "collapsed": true
   },
   "outputs": [],
   "source": [
    "def simz(theta): \n",
    "    mu = theta[0]\n",
    "    sigma = theta[1]\n",
    "    \n",
    "    def func(x): \n",
    "        return 180.0 * np.exp(-0.5 * (x - mu)**2 / sigma )\n",
    "\n",
    "    return func"
   ]
  },
  {
   "cell_type": "markdown",
   "metadata": {},
   "source": [
    "# Distance Measure\n",
    "Quantify how close to the data our model is"
   ]
  },
  {
   "cell_type": "code",
   "execution_count": 7,
   "metadata": {
    "collapsed": true
   },
   "outputs": [],
   "source": [
    "def dist(data, model): \n",
    "    data_out = data['output']\n",
    "    model_out = model(data['input'])\n",
    "    \n",
    "    rho_mu = np.abs(\n",
    "        (np.mean(data_out) - np.mean(model_out))/np.mean(data_out)\n",
    "    )\n",
    "    \n",
    "    rho_sigma = np.abs(\n",
    "        (np.std(data_out) - np.std(model_out))/np.std(data_out)\n",
    "    )\n",
    "    \n",
    "    return rho_mu + rho_sigma"
   ]
  },
  {
   "cell_type": "markdown",
   "metadata": {},
   "source": [
    "# Prior\n",
    "Our beliefs about when Phil is tallest"
   ]
  },
  {
   "cell_type": "code",
   "execution_count": 8,
   "metadata": {
    "collapsed": true
   },
   "outputs": [],
   "source": [
    "def prior():\n",
    "    prior_dict = {\n",
    "        'mu': {'shape': 'uniform', 'min': -1.0, 'max': 1.0}, \n",
    "        'sigma': {'shape': 'uniform', 'min': 10.0, 'max': 30.0}\n",
    "    }\n",
    "    return prior_dict"
   ]
  },
  {
   "cell_type": "code",
   "execution_count": 12,
   "metadata": {
    "collapsed": false
   },
   "outputs": [],
   "source": [
    "from pmc_abc import PmcAbc\n",
    "\n",
    "\n",
    "pmcabc_test = PmcAbc(data, N=100, eps0 = 10.0, T = 10, Nthreads=1)"
   ]
  },
  {
   "cell_type": "code",
   "execution_count": null,
   "metadata": {
    "collapsed": true
   },
   "outputs": [],
   "source": []
  }
 ],
 "metadata": {
  "kernelspec": {
   "display_name": "Python 2",
   "language": "python",
   "name": "python2"
  },
  "language_info": {
   "codemirror_mode": {
    "name": "ipython",
    "version": 2
   },
   "file_extension": ".py",
   "mimetype": "text/x-python",
   "name": "python",
   "nbconvert_exporter": "python",
   "pygments_lexer": "ipython2",
   "version": "2.7.10"
  }
 },
 "nbformat": 4,
 "nbformat_minor": 0
}
